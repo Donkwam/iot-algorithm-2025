{
 "cells": [
  {
   "cell_type": "markdown",
   "metadata": {},
   "source": [
    "### 연결 리스트(Linked List)\n",
    "- 노드(데이터, 링크 쌍)로 다음 데이터를 연결하는 동적 연결방식\n",
    "- 오버헤드가 없어서 매우 빨리 처리"
   ]
  },
  {
   "cell_type": "code",
   "execution_count": 2,
   "metadata": {},
   "outputs": [],
   "source": [
    "# 노드 클래스\n",
    "class Node:\n",
    "    def __init__(self):\n",
    "        self.data = None\n",
    "        self.link = None\n",
    "\n",
    "    def __str__(self):\n",
    "        return(f'{self.data} / {self.link}')"
   ]
  },
  {
   "cell_type": "code",
   "execution_count": 4,
   "metadata": {},
   "outputs": [
    {
     "name": "stdout",
     "output_type": "stream",
     "text": [
      "다현 / None\n"
     ]
    }
   ],
   "source": [
    "# 노드생성\n",
    "node1 = Node()\n",
    "node1.data = '다현'\n",
    "\n",
    "print(node1)"
   ]
  },
  {
   "cell_type": "code",
   "execution_count": 5,
   "metadata": {},
   "outputs": [],
   "source": [
    "# 노드2\n",
    "node2 = Node()\n",
    "node2.data = '정연'\n",
    "node1.link = node2  # 첫번째 노드 링크에 두번째 노드를 넣어서 연결"
   ]
  },
  {
   "cell_type": "code",
   "execution_count": 6,
   "metadata": {},
   "outputs": [],
   "source": [
    "node3 = Node()\n",
    "node3.data = '쯔위'\n",
    "node2.link = node3\n",
    "\n",
    "node4 = Node()\n",
    "node4.data = '사나'\n",
    "node3.link = node4\n",
    "\n",
    "node5 = Node()\n",
    "node5.data = '지효'\n",
    "node4.link = node5\n",
    "# node5.link == None"
   ]
  },
  {
   "cell_type": "code",
   "execution_count": 7,
   "metadata": {},
   "outputs": [
    {
     "name": "stdout",
     "output_type": "stream",
     "text": [
      "다현 -> 정연 -> 쯔위 -> 사나 -> 지효\n"
     ]
    }
   ],
   "source": [
    "print(node1.data, end=' -> ')   # node1 데이터\n",
    "print(node1.link.data, end=' -> ')  # node2 데이터\n",
    "print(node1.link.link.data, end=' -> ')  # node3 데이터\n",
    "print(node1.link.link.link.data, end=' -> ')  # node5 데이터\n",
    "print(node1.link.link.link.link.data, end='\\n')  # node5 데이터\n"
   ]
  },
  {
   "cell_type": "code",
   "execution_count": 8,
   "metadata": {},
   "outputs": [
    {
     "name": "stdout",
     "output_type": "stream",
     "text": [
      "2162052653520\n",
      "2162052874448\n",
      "2162053092496\n",
      "2162053054864\n",
      "2162053058192\n"
     ]
    }
   ],
   "source": [
    "# 순차리스트 처럼 연결되어 있지 않음\n",
    "print(id(node1))\n",
    "print(id(node2))\n",
    "print(id(node3))\n",
    "print(id(node4))\n",
    "print(id(node5))"
   ]
  },
  {
   "cell_type": "code",
   "execution_count": null,
   "metadata": {},
   "outputs": [],
   "source": [
    "current = node1 # node1를 current에 할당\n",
    "print(current.data, end='->')\n",
    "while current.link != None: # 현재 노드의 링크가 None(더이상 다음 링크가 없다)\n",
    "    current = current.link  # node1.link 에는 node2가 존재. node2를 current에 할당\n",
    "    if current.link is None:\n",
    "        print(current.data,end='\\n')\n",
    "    else:\n",
    "        print(current.data,end='->')\n"
   ]
  }
 ],
 "metadata": {
  "kernelspec": {
   "display_name": "Python 3",
   "language": "python",
   "name": "python3"
  },
  "language_info": {
   "codemirror_mode": {
    "name": "ipython",
    "version": 3
   },
   "file_extension": ".py",
   "mimetype": "text/x-python",
   "name": "python",
   "nbconvert_exporter": "python",
   "pygments_lexer": "ipython3",
   "version": "3.11.9"
  }
 },
 "nbformat": 4,
 "nbformat_minor": 2
}
