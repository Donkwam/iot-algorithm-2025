{
 "cells": [
  {
   "cell_type": "markdown",
   "metadata": {},
   "source": [
    "### 그래프\n",
    "\n",
    "<img src = \"https://upload.wikimedia.org/wikipedia/commons/thumb/a/a2/Directed.svg/1024px-Directed.svg.png\" width = \"300\">\n",
    "\n",
    "- 정점(Vertex)와 간선(Edge)로 구성된 자료구조\n",
    "- 네비게이션에서 길찾기(거리우선, 시간우선, 금액우선), 링크드인 인맥표시, 지하철노선도..."
   ]
  },
  {
   "cell_type": "markdown",
   "metadata": {},
   "source": [
    "- 정점생성"
   ]
  },
  {
   "cell_type": "code",
   "execution_count": 1,
   "metadata": {},
   "outputs": [],
   "source": [
    "class Graph:\n",
    "    def __init__(self, size):\n",
    "        self.SIZE = size\n",
    "        self.graph = [[0 for _ in range(size)] for _ in range(size)]"
   ]
  },
  {
   "cell_type": "code",
   "execution_count": 2,
   "metadata": {},
   "outputs": [],
   "source": [
    "G1 = Graph(4)"
   ]
  },
  {
   "cell_type": "code",
   "execution_count": 5,
   "metadata": {},
   "outputs": [],
   "source": [
    "# 0 -> A, 1 -> B, 2 -> C, 3 -> D\n",
    "G1.graph[0][1] = 1\n",
    "G1.graph[0][2] = 1\n",
    "G1.graph[0][3] = 1\n",
    "\n",
    "G1.graph[1][0] = 1\n",
    "G1.graph[1][2] = 1\n",
    "\n",
    "G1.graph[2][0] = 1\n",
    "G1.graph[2][1] = 1\n",
    "G1.graph[2][3] = 1\n",
    "\n",
    "G1.graph[3][0] = 1\n",
    "G1.graph[3][2] = 1"
   ]
  },
  {
   "cell_type": "markdown",
   "metadata": {},
   "source": [
    "- 방향그래프"
   ]
  },
  {
   "cell_type": "code",
   "execution_count": 3,
   "metadata": {},
   "outputs": [],
   "source": [
    "G3 = Graph(4)"
   ]
  },
  {
   "cell_type": "code",
   "execution_count": null,
   "metadata": {},
   "outputs": [],
   "source": [
    "# 0 : A, 1 : B, 2 : C, 3 : D\n",
    "G3.graph[0][1] = 1\n",
    "G3.graph[0][2] = 1\n",
    "G3.graph[3][1] = 1\n",
    "G3.graph[3][2] = 1\n"
   ]
  },
  {
   "cell_type": "markdown",
   "metadata": {},
   "source": [
    "- 그래프 인접행렬 확인"
   ]
  },
  {
   "cell_type": "code",
   "execution_count": 6,
   "metadata": {},
   "outputs": [
    {
     "name": "stdout",
     "output_type": "stream",
     "text": [
      "## G1 무방향그래프 ##\n",
      "0\t1\t1\t1\t\n",
      "1\t0\t1\t0\t\n",
      "1\t1\t0\t1\t\n",
      "1\t0\t1\t0\t\n"
     ]
    }
   ],
   "source": [
    "# G1 인접행렬\n",
    "print('## G1 무방향그래프 ##')\n",
    "for row in range(G1.SIZE):\n",
    "    for col in range(G1.SIZE):\n",
    "        print(G1.graph[row][col], end='\\t')\n",
    "    print() # 열을 다 표현하면 다음 행으로 한줄 내림"
   ]
  },
  {
   "cell_type": "code",
   "execution_count": 10,
   "metadata": {},
   "outputs": [
    {
     "name": "stdout",
     "output_type": "stream",
     "text": [
      "## G3 무방향그래프 ##\n",
      "0\t1\t1\t0\t\n",
      "0\t0\t0\t0\t\n",
      "0\t0\t0\t0\t\n",
      "0\t1\t1\t0\t\n"
     ]
    }
   ],
   "source": [
    "# G3 인접행렬\n",
    "print('## G3 무방향그래프 ##')\n",
    "for row in range(G3.SIZE):\n",
    "    for col in range(G3.SIZE):\n",
    "        print(G3.graph[row][col], end='\\t')\n",
    "    print() "
   ]
  },
  {
   "cell_type": "markdown",
   "metadata": {},
   "source": [
    "#### 그래프 개선\n",
    "- 정점이 인접행렬에서 숫자로 표시되는데, 정점의 이름으로 변경하는 것\n",
    "- 쉽게 정점이 파악되는 장점"
   ]
  },
  {
   "cell_type": "code",
   "execution_count": 11,
   "metadata": {},
   "outputs": [],
   "source": [
    "# 전역변수\n",
    "nameAry = ['문별', '솔라', '휘인', '쯔위', '선미', '화사']\n",
    "# 아래변수 이름으로 코딩할 때 사용\n",
    "문별 = 0; 솔라 = 1; 휘인 = 2; 쯔위 = 3; 선미 = 4; 화사 = 5"
   ]
  },
  {
   "cell_type": "code",
   "execution_count": 12,
   "metadata": {},
   "outputs": [],
   "source": [
    "# 그래프 출력시 정점표시하는 함수\n",
    "def printGraph(g):  # g : Graph 객체 매개변수\n",
    "    print(' ', end=' ')\n",
    "    for v in range(g.SIZE):\n",
    "        print(nameAry[v], end=' ')\n",
    "    print()\n",
    "\n",
    "    for row in range(g.SIZE):\n",
    "        for col in range(g.SIZE):\n",
    "            print(g.graph[row][col], end='\\t')\n",
    "        print()\n",
    "    \n",
    "    print()"
   ]
  }
 ],
 "metadata": {
  "kernelspec": {
   "display_name": "Python 3",
   "language": "python",
   "name": "python3"
  },
  "language_info": {
   "codemirror_mode": {
    "name": "ipython",
    "version": 3
   },
   "file_extension": ".py",
   "mimetype": "text/x-python",
   "name": "python",
   "nbconvert_exporter": "python",
   "pygments_lexer": "ipython3",
   "version": "3.11.9"
  }
 },
 "nbformat": 4,
 "nbformat_minor": 2
}
