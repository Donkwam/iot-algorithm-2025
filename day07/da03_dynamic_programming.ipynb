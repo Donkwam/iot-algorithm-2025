{
 "cells": [
  {
   "cell_type": "markdown",
   "metadata": {},
   "source": [
    "### DP(Dynamic Programming) : 동적 계획법\n",
    "- 연산의 수는 줄이고 최적의 결과를 도출할 수 있는 문제 해결방법"
   ]
  },
  {
   "cell_type": "markdown",
   "metadata": {},
   "source": [
    "#### Memoization\n",
    "\n",
    "|보석 종류|무게(Kg)|가격(억)|\n",
    "|:--:|--:|--:|\n",
    "|금괴|6|13|\n",
    "|수정|4|8|\n",
    "|루비|3|6|\n",
    "|진주|5|12|"
   ]
  },
  {
   "cell_type": "code",
   "execution_count": 2,
   "metadata": {},
   "outputs": [
    {
     "data": {
      "text/plain": [
       "[[0, 0, 0, 0, 0, 0, 0, 0],\n",
       " [0, 0, 0, 0, 0, 0, 0, 0],\n",
       " [0, 0, 0, 0, 0, 0, 0, 0],\n",
       " [0, 0, 0, 0, 0, 0, 0, 0],\n",
       " [0, 0, 0, 0, 0, 0, 0, 0]]"
      ]
     },
     "execution_count": 2,
     "metadata": {},
     "output_type": "execute_result"
    }
   ],
   "source": [
    "# 배열 초기화(행은 보석갯수, 열은 0Kg~7Kg)\n",
    "배열 =[[0 for _ in range(8)]for _ in range(5)]\n",
    "\n",
    "배열"
   ]
  },
  {
   "cell_type": "code",
   "execution_count": null,
   "metadata": {},
   "outputs": [],
   "source": [
    "# 변수 선언\n",
    "maxWeight = 7\n",
    "rowCount = 4\n",
    "treasure = ['', '금괴', '수정', '루비', '진주']\n",
    "weight = [0, 6, 4, 3, 5]    # 보석무게(0, 금괴, 수정, 루비, 진주)\n",
    "money = [0, 13, 8, 6, 12]   # 보석가격(0, 금괴, 수정, 루비, 진주)\n",
    "\n",
    "# 함수 선언\n",
    "def knapsack():\n",
    "    print('## 메모이제이션 배열 ##')\n",
    "    array = [[0 for _ in range(maxWeight+1)]for _ in range(rowCount+1)] # 5x8열 행렬\n",
    "\n",
    "    for row in range(1, rowCount+1):    # 1~4(보석개수)\n",
    "        print(f'보석 {row}개 ', end='-> ')\n",
    "        for col in range(1, maxWeight+1):   # 1~7(Kg)\n",
    "            if weight[row] > col:   # 보석의 무게가 무거워서 1Kg 가방에 못 들어가면\n",
    "                array[row][col] = array[row-1][col]\n",
    "            else:   # 보석의 무게가 가방무게보다 작거나 같으면\n",
    "                # 현재보석 가치와 배낭무게에서 현재보석의 무게를 뺀 위치의 가치를 합산 결과\n",
    "                value1 = money[row] + array[row-1][col - weight[row]]   \n",
    "                value2 = array[row - 1][col]\n",
    "                array[row][col] = max(value1, value2)\n",
    "            print(f'{array[row][col]}', end=' ')\n",
    "        print()\n",
    "\n",
    "    return array[rowCount][maxWeight]   # 최송결과값\n",
    "\n",
    "# 메인로직\n",
    "maxValue = knapsack()\n",
    "print()\n",
    "print(f'배낭에 담을 가장 최대보석 가격 --> {maxValue}억원')\n",
    "            "
   ]
  }
 ],
 "metadata": {
  "kernelspec": {
   "display_name": "Python 3",
   "language": "python",
   "name": "python3"
  },
  "language_info": {
   "codemirror_mode": {
    "name": "ipython",
    "version": 3
   },
   "file_extension": ".py",
   "mimetype": "text/x-python",
   "name": "python",
   "nbconvert_exporter": "python",
   "pygments_lexer": "ipython3",
   "version": "3.11.9"
  }
 },
 "nbformat": 4,
 "nbformat_minor": 2
}
